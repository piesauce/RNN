{
 "cells": [
  {
   "cell_type": "code",
   "execution_count": 1,
   "metadata": {
    "collapsed": true
   },
   "outputs": [],
   "source": [
    "import numpy as np"
   ]
  },
  {
   "cell_type": "code",
   "execution_count": 13,
   "metadata": {
    "collapsed": true
   },
   "outputs": [],
   "source": [
    "def rnn_forward_step(x_t, a, params):\n",
    "    \n",
    "    wax = params['wax']\n",
    "    waa = params['waa']\n",
    "    wya = params['wya']\n",
    "    ba = params['ba']\n",
    "    by = params['by']\n",
    "    \n",
    "    a_new = np.tanh(np.matmul(wax, x_t) + np.matmul(waa, a) + ba)\n",
    "    \n",
    "    \n",
    "    y = np.matmul(wya, a_new) + by\n",
    "    expn = np.exp(y - np.max(y))\n",
    "    y_predict_t = expn / expn.sum(axis=0)\n",
    "    \n",
    "    cache = (a_new, a, x_t, params)\n",
    "    \n",
    "    return a_new, y_predict_t, cache\n",
    "    \n",
    "    \n",
    "    \n",
    "    \n",
    "    \n",
    "    \n",
    "    \n",
    "    \n",
    "\n",
    "\n",
    "\n",
    "\n",
    "\n",
    "    \n",
    "    "
   ]
  },
  {
   "cell_type": "code",
   "execution_count": 14,
   "metadata": {
    "collapsed": false
   },
   "outputs": [],
   "source": [
    "def rnn_forward(X, a0, params):\n",
    "    \n",
    "    caches = []\n",
    "    \n",
    "    (in_shape, num_examples, num_timesteps) = X.shape\n",
    "    (ou_shape, act_shape) = params['wya'].shape\n",
    "    \n",
    "    a_new = np.zeros((act_shape, num_examples, num_timesteps))\n",
    "    y_predict = np.zeros((ou_shape, num_examples, num_timesteps))\n",
    "    \n",
    "    a = a0\n",
    "    \n",
    "    for t in range(num_timesteps):\n",
    "        \n",
    "        a, y_predict_t, cache = rnn_forward_step(x[:,:,t], a, params)\n",
    "        a_new[:,:,t] = a\n",
    "        y_predict [:,:,t] = y_predict_t\n",
    "        caches.append(cache)\n",
    "    \n",
    "    caches = (caches, X)\n",
    "        \n",
    "    return a_new, y_predict, caches\n",
    "          \n",
    "   "
   ]
  },
  {
   "cell_type": "code",
   "execution_count": 18,
   "metadata": {
    "collapsed": true
   },
   "outputs": [],
   "source": [
    "def lstm_forward_step(X_t, a, m, params):\n",
    "    \n",
    "    wf = params['wf']\n",
    "    bf = params['bf']\n",
    "    wu = params['wu']\n",
    "    bu = params['bu']\n",
    "    wm = params['wm']\n",
    "    bm = params['bm']\n",
    "    wo = params['wo']\n",
    "    bo = params['bo']\n",
    "    wy = params['wy']\n",
    "    by = params['by']\n",
    "    \n",
    "    (in_size, num_examples) = X_t.shape\n",
    "    (ou_size, act_size) = wy.shape\n",
    "    \n",
    "    X = np.zeros(((act_size+in_size), num_examples))\n",
    "    X[:act_size] = a\n",
    "    X[act_size:] = X_t\n",
    "    \n",
    "    forget_t = 1 / (1 + np.exp(-(np.matmul(wf, X) + bf)))\n",
    "    update_t = 1 / (1 + np.exp(-(np.matmul(wu, X) + bu)))\n",
    "    mem_t = np.tanh(np.matmul(wm, X) + bm)\n",
    "    m_new = forget_t * m + update_t * mem_t\n",
    "    output_t = 1 / (1 + np.exp(-(np.matmul(wo, X) + bo)))\n",
    "    a_new = output_t * np.tanh(m_new)\n",
    "    \n",
    "    \n",
    "    y = np.matmul(wy, a_new) + by\n",
    "    expn = np.exp(y - np.max(y))\n",
    "    y_predict_t = expn / expn.sum(axis=0)\n",
    "    \n",
    "    cache = (a_new, m_new, a, m, forget_t, update_t, mem_t, output_t, X_t, params)\n",
    "    \n",
    "    return a_new, m_new, y_predict_t, cache\n",
    "    "
   ]
  },
  {
   "cell_type": "code",
   "execution_count": 20,
   "metadata": {
    "collapsed": true
   },
   "outputs": [],
   "source": [
    "def lstm_forward(X, a0, params):\n",
    "    \n",
    "    caches = []\n",
    "    \n",
    "    (in_size, num_examples, num_timesteps) = X.shape\n",
    "    (ou_size, act_size) = params['wy'].shape\n",
    "    \n",
    "    a_new = np.zeros((act_size, num_examples, num_timesteps))\n",
    "    m_new = np.zeros((act_size, num_examples, num_timesteps))\n",
    "    y_new = np.zeros((ou_size, num_examples, num_timesteps))\n",
    "    \n",
    "    a = a0\n",
    "    m = np.zeros((act_size, num_examples))\n",
    "    \n",
    "    for t in range(num_timesteps):\n",
    "        \n",
    "        a, m, y_predict_t, cache = lstm_forward_step(X[:,:,t], a, m, params)\n",
    "        a_new[:,:,t] = a\n",
    "        y_new[:,:,t] = y_predict_t\n",
    "        m_new[:,:,t] = m\n",
    "        \n",
    "        caches.append(cache)\n",
    "        \n",
    "    caches = (caches, X)\n",
    "    \n",
    "    return a_new, y_new, m_new, caches\n",
    "        \n",
    "    \n",
    "    \n",
    "\n",
    "\n",
    "\n",
    "  \n",
    "  \n",
    "    \n",
    "  \n",
    "   "
   ]
  },
  {
   "cell_type": "code",
   "execution_count": null,
   "metadata": {
    "collapsed": true
   },
   "outputs": [],
   "source": []
  }
 ],
 "metadata": {
  "kernelspec": {
   "display_name": "Python 3",
   "language": "python",
   "name": "python3"
  },
  "language_info": {
   "codemirror_mode": {
    "name": "ipython",
    "version": 3
   },
   "file_extension": ".py",
   "mimetype": "text/x-python",
   "name": "python",
   "nbconvert_exporter": "python",
   "pygments_lexer": "ipython3",
   "version": "3.6.0"
  }
 },
 "nbformat": 4,
 "nbformat_minor": 2
}
